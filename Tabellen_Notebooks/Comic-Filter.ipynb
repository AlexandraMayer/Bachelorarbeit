{
 "cells": [
  {
   "cell_type": "code",
   "execution_count": 1,
   "metadata": {},
   "outputs": [],
   "source": [
    "import cv2"
   ]
  },
  {
   "cell_type": "code",
   "execution_count": 2,
   "metadata": {},
   "outputs": [],
   "source": [
    "def filter(img,x=100,y=200):\n",
    "    '''\n",
    "    Autor: André Heirnich\n",
    "        Wendet den Canny Edge Detection-Algorithmus auf ein Bild an,\n",
    "        invertiert das Bild und gibt dieses zurück.\n",
    "    Parameter:\n",
    "        x     threshold1\n",
    "        y     threshold2\n",
    "    '''\n",
    "    edges = cv2.Canny(img,x,y)\n",
    "    return cv2.bitwise_not(edges)"
   ]
  },
  {
   "cell_type": "markdown",
   "metadata": {},
   "source": [
    "## Exchange Example"
   ]
  },
  {
   "cell_type": "code",
   "execution_count": 3,
   "metadata": {
    "scrolled": false
   },
   "outputs": [
    {
     "data": {
      "text/plain": [
       "True"
      ]
     },
     "execution_count": 3,
     "metadata": {},
     "output_type": "execute_result"
    }
   ],
   "source": [
    "img = cv2.imread(\"..\\\\Bilder\\\\MVI_3149_Trim_MomentI.jpg\", cv2.IMREAD_GRAYSCALE)\n",
    "\n",
    "cv2.imwrite(\"..\\Text\\pictures\\\\observation\\\\standard\\\\exchange.png\", filter(img, 60, 60))"
   ]
  },
  {
   "cell_type": "code",
   "execution_count": 4,
   "metadata": {},
   "outputs": [
    {
     "data": {
      "text/plain": [
       "True"
      ]
     },
     "execution_count": 4,
     "metadata": {},
     "output_type": "execute_result"
    }
   ],
   "source": [
    "img = cv2.imread(\"..\\\\Bilder\\\\football\\\\Beispielbild_football.jpg\", cv2.IMREAD_GRAYSCALE)\n",
    "\n",
    "cv2.imwrite(\"..\\Text\\pictures\\\\observation\\\\football\\\\exchange_football.png\", filter(img, 70, 70))"
   ]
  },
  {
   "cell_type": "code",
   "execution_count": null,
   "metadata": {},
   "outputs": [],
   "source": []
  }
 ],
 "metadata": {
  "kernelspec": {
   "display_name": "Python 3",
   "language": "python",
   "name": "python3"
  },
  "language_info": {
   "codemirror_mode": {
    "name": "ipython",
    "version": 3
   },
   "file_extension": ".py",
   "mimetype": "text/x-python",
   "name": "python",
   "nbconvert_exporter": "python",
   "pygments_lexer": "ipython3",
   "version": "3.6.8"
  }
 },
 "nbformat": 4,
 "nbformat_minor": 2
}
